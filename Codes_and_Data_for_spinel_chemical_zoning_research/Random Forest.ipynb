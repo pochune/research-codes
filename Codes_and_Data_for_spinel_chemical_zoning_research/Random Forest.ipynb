{
 "cells": [
  {
   "cell_type": "code",
   "execution_count": 45,
   "id": "a1ab97b7",
   "metadata": {},
   "outputs": [],
   "source": [
    "#####Set librairies\n",
    "import numpy as np\n",
    "import pandas as pd\n",
    "import matplotlib.pyplot as plt\n",
    "import seaborn as sns\n",
    "\n",
    "from sklearn.model_selection import train_test_split\n",
    "from sklearn.metrics import accuracy_score, precision_score, recall_score, roc_auc_score\n",
    "from sklearn.metrics import f1_score, confusion_matrix, precision_recall_curve, roc_curve\n",
    "from sklearn.preprocessing import StandardScaler\n",
    "from sklearn.cluster import MeanShift\n",
    "from sklearn.cluster import estimate_bandwidth"
   ]
  },
  {
   "cell_type": "code",
   "execution_count": 58,
   "id": "bc08cfa7",
   "metadata": {},
   "outputs": [
    {
     "data": {
      "text/plain": [
       "0    2200.0\n",
       "1      26.3\n",
       "2      30.0\n",
       "3    1150.0\n",
       "4      15.0\n",
       "Name: R, dtype: float64"
      ]
     },
     "execution_count": 58,
     "metadata": {},
     "output_type": "execute_result"
    }
   ],
   "source": [
    "#####import data and data arrangement and data pre-processing\n",
    "data = pd.read_csv('result_summ.csv')\n",
    "data1 = data.transpose()\n",
    "data_df = pd.DataFrame(data1.iloc[:])\n",
    "data_df = pd.DataFrame(data_df.iloc[:], columns = [\"20%\",\"40%\", \"60%\", \"80%\", \"100%\", \"delta_20_60\", \"delta_60_100\" ], )\n",
    "data_df[\"20%\"] = data1.iloc[:,0].values\n",
    "data_df[\"40%\"] = data1.iloc[:,1].values\n",
    "data_df[\"60%\"] = data1.iloc[:,2].values\n",
    "data_df[\"80%\"] = data1.iloc[:,3].values\n",
    "data_df[\"100%\"] = data1.iloc[:,4].values\n",
    "data_df[\"delta_20_60\"] = data1.iloc[:,5].values\n",
    "data_df[\"delta_60_100\"] = data1.iloc[:,6].values\n",
    "data_df\n",
    "data_delta = data_df.iloc[:, 5:7]\n",
    "data_delta = data_df.iloc[:, 5:7]\n",
    "X_features = data_delta[['delta_20_60','delta_60_100']].values\n",
    "X_features_scaled = StandardScaler().fit_transform(X_features)\n",
    "data_delta_scaled = pd.DataFrame(X_features_scaled, index = [1,2,3,4,5,6,7,8,9,10,11,12,13,14,15,16,17,18,19,20,21,22,23,24,25,26,27,28,29,30,31,32,33-1,33-2,33-3,34,35,36,37,38,39,40,\n",
    "     41,42,43,44,45,46,47,48,49,50,51,52,53,54,55,56-1,56-2,57,58,59,60,61,62,63,64,65,66,67,68,69,70,71,72,73,74,75,76,77,78,79,\n",
    "     80,81,82,83,84], columns = ['delta_20_60','delta_60_100'])\n",
    "data_delta_scaled_size_ratio = pd.read_csv('data_delta_scaled_size_ratio.csv')\n",
    "data_delta_scaled_size_ratio.head()\n",
    "data_delta_scaled_size_ratio['R'].head()"
   ]
  },
  {
   "cell_type": "code",
   "execution_count": 59,
   "id": "2c121048",
   "metadata": {},
   "outputs": [
    {
     "name": "stdout",
     "output_type": "stream",
     "text": [
      "0.942021773355324\n",
      "[0 1 2 3 4]\n",
      "   delta_20_60  delta_60_100  clust_label\n",
      "0     1.031010      2.514073            2\n",
      "1    -0.410802     -0.137388            0\n",
      "2    -2.225294     -0.490802            4\n",
      "3     0.329982      1.839871            2\n",
      "4    -0.152960     -1.244178            0\n",
      "0    53\n",
      "1    17\n",
      "2    14\n",
      "4     2\n",
      "3     1\n",
      "Name: clust_label, dtype: int64\n",
      "    delta_20_60  delta_60_100  clust_label\n",
      "2     -2.225294     -0.490802            4\n",
      "59    -2.239505     -1.502988            4\n",
      "    delta_20_60  delta_60_100  clust_label\n",
      "38    -1.199806     -3.184215            3\n"
     ]
    },
    {
     "data": {
      "text/html": [
       "<div>\n",
       "<style scoped>\n",
       "    .dataframe tbody tr th:only-of-type {\n",
       "        vertical-align: middle;\n",
       "    }\n",
       "\n",
       "    .dataframe tbody tr th {\n",
       "        vertical-align: top;\n",
       "    }\n",
       "\n",
       "    .dataframe thead th {\n",
       "        text-align: right;\n",
       "    }\n",
       "</style>\n",
       "<table border=\"1\" class=\"dataframe\">\n",
       "  <thead>\n",
       "    <tr style=\"text-align: right;\">\n",
       "      <th></th>\n",
       "      <th>delta_20_60</th>\n",
       "      <th>delta_60_100</th>\n",
       "      <th>clust_label</th>\n",
       "    </tr>\n",
       "  </thead>\n",
       "  <tbody>\n",
       "    <tr>\n",
       "      <th>0</th>\n",
       "      <td>1.031010</td>\n",
       "      <td>2.514073</td>\n",
       "      <td>2</td>\n",
       "    </tr>\n",
       "    <tr>\n",
       "      <th>1</th>\n",
       "      <td>-0.410802</td>\n",
       "      <td>-0.137388</td>\n",
       "      <td>0</td>\n",
       "    </tr>\n",
       "    <tr>\n",
       "      <th>2</th>\n",
       "      <td>-2.225294</td>\n",
       "      <td>-0.490802</td>\n",
       "      <td>4</td>\n",
       "    </tr>\n",
       "    <tr>\n",
       "      <th>3</th>\n",
       "      <td>0.329982</td>\n",
       "      <td>1.839871</td>\n",
       "      <td>2</td>\n",
       "    </tr>\n",
       "    <tr>\n",
       "      <th>4</th>\n",
       "      <td>-0.152960</td>\n",
       "      <td>-1.244178</td>\n",
       "      <td>0</td>\n",
       "    </tr>\n",
       "  </tbody>\n",
       "</table>\n",
       "</div>"
      ],
      "text/plain": [
       "   delta_20_60  delta_60_100  clust_label\n",
       "0     1.031010      2.514073            2\n",
       "1    -0.410802     -0.137388            0\n",
       "2    -2.225294     -0.490802            4\n",
       "3     0.329982      1.839871            2\n",
       "4    -0.152960     -1.244178            0"
      ]
     },
     "execution_count": 59,
     "metadata": {},
     "output_type": "execute_result"
    }
   ],
   "source": [
    "#####estimate best_bandwidth of Meanshift clustering\n",
    "x=data_delta_scaled['delta_20_60'].values\n",
    "y=data_delta_scaled['delta_60_100'].values\n",
    "data_delta_scaled = pd.DataFrame(X_features_scaled, columns = ['delta_20_60','delta_60_100'])\n",
    "X_features = data_delta_scaled[['delta_20_60','delta_60_100']].values\n",
    "\n",
    "best_bandwidth = estimate_bandwidth(X_features, quantile = 0.25)\n",
    "print(best_bandwidth)\n",
    "\n",
    "meanshift = MeanShift(bandwidth = best_bandwidth)\n",
    "cluster_labels = meanshift.fit_predict(X_features)\n",
    "print(np.unique(cluster_labels))\n",
    "\n",
    "data_delta_scaled['clust_label'] = cluster_labels\n",
    "data_delta_scaled_size_ratio['clust_label'] = cluster_labels\n",
    "print(data_delta_scaled.head())\n",
    "\n",
    "print(data_delta_scaled['clust_label'].value_counts())\n",
    "print(data_delta_scaled.loc[data_delta_scaled['clust_label'] == 4])\n",
    "print(data_delta_scaled.loc[data_delta_scaled['clust_label'] == 3])\n",
    "data_delta_scaled.head()"
   ]
  },
  {
   "cell_type": "code",
   "execution_count": 60,
   "id": "b07d9f74",
   "metadata": {},
   "outputs": [
    {
     "name": "stdout",
     "output_type": "stream",
     "text": [
      "0    53\n",
      "1    17\n",
      "2    14\n",
      "4     2\n",
      "3     1\n",
      "Name: clust_label, dtype: int64\n",
      "    delta_20_60  delta_60_100     R         L  clust_label\n",
      "2     -2.225294     -0.490802  30.0  2.665476            4\n",
      "59    -2.239505     -1.502988  23.0  1.426450            4\n",
      "    delta_20_60  delta_60_100      R         L  clust_label\n",
      "38    -1.199806     -3.184215  330.0  3.455881            3\n"
     ]
    },
    {
     "data": {
      "text/html": [
       "<div>\n",
       "<style scoped>\n",
       "    .dataframe tbody tr th:only-of-type {\n",
       "        vertical-align: middle;\n",
       "    }\n",
       "\n",
       "    .dataframe tbody tr th {\n",
       "        vertical-align: top;\n",
       "    }\n",
       "\n",
       "    .dataframe thead th {\n",
       "        text-align: right;\n",
       "    }\n",
       "</style>\n",
       "<table border=\"1\" class=\"dataframe\">\n",
       "  <thead>\n",
       "    <tr style=\"text-align: right;\">\n",
       "      <th></th>\n",
       "      <th>delta_20_60</th>\n",
       "      <th>delta_60_100</th>\n",
       "      <th>R</th>\n",
       "      <th>L</th>\n",
       "      <th>clust_label</th>\n",
       "    </tr>\n",
       "  </thead>\n",
       "  <tbody>\n",
       "    <tr>\n",
       "      <th>0</th>\n",
       "      <td>1.031010</td>\n",
       "      <td>2.514073</td>\n",
       "      <td>2200.0</td>\n",
       "      <td>2.334865</td>\n",
       "      <td>2</td>\n",
       "    </tr>\n",
       "    <tr>\n",
       "      <th>1</th>\n",
       "      <td>-0.410802</td>\n",
       "      <td>-0.137388</td>\n",
       "      <td>26.3</td>\n",
       "      <td>2.247809</td>\n",
       "      <td>0</td>\n",
       "    </tr>\n",
       "    <tr>\n",
       "      <th>3</th>\n",
       "      <td>0.329982</td>\n",
       "      <td>1.839871</td>\n",
       "      <td>1150.0</td>\n",
       "      <td>2.502850</td>\n",
       "      <td>2</td>\n",
       "    </tr>\n",
       "    <tr>\n",
       "      <th>4</th>\n",
       "      <td>-0.152960</td>\n",
       "      <td>-1.244178</td>\n",
       "      <td>15.0</td>\n",
       "      <td>1.062790</td>\n",
       "      <td>0</td>\n",
       "    </tr>\n",
       "    <tr>\n",
       "      <th>5</th>\n",
       "      <td>-0.528865</td>\n",
       "      <td>-0.153630</td>\n",
       "      <td>31.0</td>\n",
       "      <td>2.092551</td>\n",
       "      <td>0</td>\n",
       "    </tr>\n",
       "  </tbody>\n",
       "</table>\n",
       "</div>"
      ],
      "text/plain": [
       "   delta_20_60  delta_60_100       R         L  clust_label\n",
       "0     1.031010      2.514073  2200.0  2.334865            2\n",
       "1    -0.410802     -0.137388    26.3  2.247809            0\n",
       "3     0.329982      1.839871  1150.0  2.502850            2\n",
       "4    -0.152960     -1.244178    15.0  1.062790            0\n",
       "5    -0.528865     -0.153630    31.0  2.092551            0"
      ]
     },
     "execution_count": 60,
     "metadata": {},
     "output_type": "execute_result"
    }
   ],
   "source": [
    "#####Insert cluster_label to Datafram including delta_20_60, delta_60_100, R(grain size), L(Aspect ratio) data\n",
    "#####Delete data clustered as cluster 3 and 4\n",
    "print(data_delta_scaled_size_ratio['clust_label'].value_counts())\n",
    "print(data_delta_scaled_size_ratio.loc[data_delta_scaled_size_ratio['clust_label'] == 4])\n",
    "print(data_delta_scaled_size_ratio.loc[data_delta_scaled_size_ratio['clust_label'] == 3])\n",
    "data_delta_scaled_size_ratio.drop([2,59,38], axis=0, inplace=True)\n",
    "data_delta_scaled_size_ratio.head()"
   ]
  },
  {
   "cell_type": "code",
   "execution_count": 61,
   "id": "9241ef6e",
   "metadata": {},
   "outputs": [
    {
     "name": "stdout",
     "output_type": "stream",
     "text": [
      "train shape: 75\n",
      "test shape: 9\n",
      "ratio for each label value in training set\n",
      "0    0.626667\n",
      "1    0.200000\n",
      "2    0.173333\n",
      "Name: clust_label, dtype: float64\n",
      "ratio for each label value in testing set\n",
      "0    0.666667\n",
      "1    0.222222\n",
      "2    0.111111\n",
      "Name: clust_label, dtype: float64\n"
     ]
    }
   ],
   "source": [
    "#####Data Split (training data sets, testing data sets)\n",
    "X_features = data_delta_scaled_size_ratio.iloc[:, :-1]\n",
    "y_labels = data_delta_scaled_size_ratio.iloc[:, -1]\n",
    "X_train, X_test, y_train, y_test = train_test_split(X_features, y_labels, test_size = 0.1, stratify = y_labels)\n",
    "\n",
    "train_cnt = y_train.count()\n",
    "test_cnt = y_test.count()\n",
    "print('train shape:', train_cnt)\n",
    "print('test shape:', test_cnt)\n",
    "\n",
    "print('ratio for each label value in training set')\n",
    "print(y_train.value_counts()/train_cnt)\n",
    "print('ratio for each label value in testing set')\n",
    "print(y_test.value_counts()/test_cnt)"
   ]
  },
  {
   "cell_type": "code",
   "execution_count": 62,
   "id": "00b4fa25",
   "metadata": {},
   "outputs": [],
   "source": [
    "#####Define command evaluating model\n",
    "def get_clf_eval(y_test, pred = None, pred_proba = None):\n",
    "    confusion = confusion_matrix(y_test, pred)\n",
    "    accuracy = accuracy_score(y_test, pred)\n",
    "    precision = precision_score(y_test, pred, average = 'micro')\n",
    "    recall  = recall_score(y_test, pred, average = 'micro')\n",
    "    f1 = f1_score(y_test, pred, average = 'micro')\n",
    "    print('accuracy: {0:.4f}'.format(accuracy))"
   ]
  },
  {
   "cell_type": "code",
   "execution_count": 63,
   "id": "0beb48ce",
   "metadata": {},
   "outputs": [
    {
     "name": "stdout",
     "output_type": "stream",
     "text": [
      "accuracy: 0.7778\n",
      "83    0\n",
      "15    2\n",
      "35    1\n",
      "32    0\n",
      "26    0\n",
      "72    0\n",
      "44    0\n",
      "66    0\n",
      "75    1\n",
      "Name: clust_label, dtype: int64\n",
      "[0 2 0 0 0 0 1 0 1]\n"
     ]
    }
   ],
   "source": [
    "#####Training data\n",
    "from sklearn.ensemble import RandomForestClassifier\n",
    "import warnings\n",
    "warnings.filterwarnings('ignore')\n",
    "\n",
    "rf_clf = RandomForestClassifier(random_state=0)\n",
    "rf_clf.fit(X_train , y_train)\n",
    "pred = rf_clf.predict(X_test)\n",
    "pred_proba = rf_clf.predict_proba(X_test)[:,1]\n",
    "\n",
    "get_clf_eval(y_test, pred, pred_proba)\n",
    "print(y_test)\n",
    "print(pred)"
   ]
  },
  {
   "cell_type": "code",
   "execution_count": 64,
   "id": "d40e5da6",
   "metadata": {},
   "outputs": [
    {
     "name": "stdout",
     "output_type": "stream",
     "text": [
      "Cross validation accuracy: [0.8889 1.     1.     0.8889 1.     0.875  0.875  0.875  0.875  1.    ]\n",
      "average accuracy: 0.9278\n"
     ]
    }
   ],
   "source": [
    "#####Trained model validation (cross validation)\n",
    "from sklearn.metrics import make_scorer, accuracy_score, precision_score, recall_score, f1_score\n",
    "from sklearn.metrics import accuracy_score\n",
    "from sklearn.model_selection import cross_val_score, cross_validate\n",
    "scores = cross_val_score(rf_clf, X_features, y_labels, scoring = 'accuracy', cv = 10)\n",
    "print('Cross validation accuracy:', np.round(scores, 4))\n",
    "print('average accuracy:', np.round(np.mean(scores),4))"
   ]
  },
  {
   "cell_type": "code",
   "execution_count": 65,
   "id": "14a402f8",
   "metadata": {},
   "outputs": [
    {
     "data": {
      "text/plain": [
       "['delta_20_60', 'delta_60_100', 'R', 'L']"
      ]
     },
     "execution_count": 65,
     "metadata": {},
     "output_type": "execute_result"
    }
   ],
   "source": [
    "#####Defining feature and target names\n",
    "data_delta_scaled_size_ratio.columns\n",
    "data_delta_scaled_size_ratio.feature_names = ['delta_20_60', 'delta_60_100', 'R', 'L']\n",
    "data_delta_scaled_size_ratio.target_names = ['group1', 'group2', 'group3']\n",
    "data_delta_scaled_size_ratio.feature_names"
   ]
  },
  {
   "cell_type": "code",
   "execution_count": 66,
   "id": "736d2553",
   "metadata": {},
   "outputs": [
    {
     "name": "stdout",
     "output_type": "stream",
     "text": [
      "feature importance:\n",
      "[0.322 0.476 0.175 0.028]\n",
      "delta_20_60 : 0.322\n",
      "delta_60_100 : 0.476\n",
      "R : 0.175\n",
      "L : 0.028\n"
     ]
    },
    {
     "data": {
      "text/plain": [
       "<AxesSubplot:>"
      ]
     },
     "execution_count": 66,
     "metadata": {},
     "output_type": "execute_result"
    },
    {
     "data": {
      "image/png": "[encoded data removed]",
      "text/plain": [
       "<Figure size 360x360 with 1 Axes>"
      ]
     },
     "metadata": {
      "needs_background": "light"
     },
     "output_type": "display_data"
    }
   ],
   "source": [
    "#####Visualizing feature importance for each feature\n",
    "\n",
    "print(\"feature importance:\\n{0}\".format(np.round(rf_clf.feature_importances_, 3)))\n",
    "\n",
    "for name, value in zip(data_delta_scaled_size_ratio.feature_names, rf_clf.feature_importances_):\n",
    "    print('{0} : {1:.3f}'.format(name, value))\n",
    "    \n",
    "plt.figure(figsize=(5,5))\n",
    "sns.barplot(x = rf_clf.feature_importances_, y=data_delta_scaled_size_ratio.feature_names)"
   ]
  },
  {
   "cell_type": "code",
   "execution_count": null,
   "id": "8d416ed7",
   "metadata": {},
   "outputs": [],
   "source": []
  }
 ],
 "metadata": {
  "kernelspec": {
   "display_name": "Python 3",
   "language": "python",
   "name": "python3"
  },
  "language_info": {
   "codemirror_mode": {
    "name": "ipython",
    "version": 3
   },
   "file_extension": ".py",
   "mimetype": "text/x-python",
   "name": "python",
   "nbconvert_exporter": "python",
   "pygments_lexer": "ipython3",
   "version": "3.8.8"
  }
 },
 "nbformat": 4,
 "nbformat_minor": 5
}
