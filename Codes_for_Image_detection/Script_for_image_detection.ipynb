{
  "nbformat": 4,
  "nbformat_minor": 0,
  "metadata": {
    "colab": {
      "provenance": [],
      "gpuType": "T4"
    },
    "kernelspec": {
      "name": "python3",
      "display_name": "Python 3"
    },
    "language_info": {
      "name": "python"
    },
    "accelerator": "GPU"
  },
  "cells": [
    {
      "cell_type": "code",
      "execution_count": null,
      "metadata": {
        "id": "nnrASC6guFTt"
      },
      "outputs": [],
      "source": [
        "!git clone https://github.com/ultralytics/yolov3"
      ]
    },
    {
      "cell_type": "code",
      "source": [
        "####need to insert '#' in front of Deloy layer and Pillow layer in 'requirments.txt'.\n",
        "!cd yolov3;pip install -qr requirements.txt"
      ],
      "metadata": {
        "id": "d3kGufsmuKeW"
      },
      "execution_count": 11,
      "outputs": []
    },
    {
      "cell_type": "code",
      "source": [
        "import torch\n",
        "from IPython.display import Image, clear_output  # to display images\n",
        "\n",
        "clear_output()\n",
        "print(f\"Setup complete. Using torch {torch.__version__} ({torch.cuda.get_device_properties(0).name if torch.cuda.is_available() else 'CPU'})\")"
      ],
      "metadata": {
        "id": "bVXb_rDhuSmy"
      },
      "execution_count": null,
      "outputs": []
    },
    {
      "cell_type": "code",
      "source": [
        "#Oxford pet dataset\n",
        "!wget https://www.robots.ox.ac.uk/~vgg/data/pets/data/images.tar.gz\n",
        "!wget https://www.robots.ox.ac.uk/~vgg/data/pets/data/annotations.tar.gz"
      ],
      "metadata": {
        "id": "nSrxTE_YuU_Q"
      },
      "execution_count": null,
      "outputs": []
    },
    {
      "cell_type": "code",
      "source": [
        "# Extract\n",
        "!mkdir /content/data\n",
        "!tar -xvf images.tar.gz -C /content/data\n",
        "!tar -xvf annotations.tar.gz -C /content/data"
      ],
      "metadata": {
        "id": "_zxWcj-5ubck"
      },
      "execution_count": null,
      "outputs": []
    },
    {
      "cell_type": "code",
      "source": [
        "#make files for train, val dataset\n",
        "!mkdir /content/ox_pet;\n",
        "!cd /content/ox_pet; mkdir images; mkdir labels;\n",
        "!cd /content/ox_pet/images; mkdir train; mkdir val\n",
        "!cd /content/ox_pet/labels; mkdir train; mkdir val"
      ],
      "metadata": {
        "id": "ehuiA_Tuu8L6"
      },
      "execution_count": null,
      "outputs": []
    },
    {
      "cell_type": "code",
      "source": [
        "#convert data within trainval.txt to dataframe\n",
        "import pandas as pd\n",
        "\n",
        "pd.read_csv('/content/data/annotations/trainval.txt', sep=' ', header=None, names=['img_name', 'class_id', 'etc1', 'etc2'])"
      ],
      "metadata": {
        "id": "Hp4pLPDqvWa7"
      },
      "execution_count": null,
      "outputs": []
    },
    {
      "cell_type": "code",
      "source": [
        "import os\n",
        "import pandas as pd\n",
        "from sklearn.model_selection import train_test_split\n",
        "#create dataframe using for train and validation\n",
        "def make_train_valid_df(list_filepath, img_dir, anno_dir, test_size=0.1):\n",
        "  pet_df = pd.read_csv(list_filepath, sep=' ', header=None, names=['img_name', 'class_id', 'etc1', 'etc2'])\n",
        "  pet_df['class_name'] = pet_df['img_name'].apply(lambda x:x[:x.rfind('_')])\n",
        "  pet_df['img_filepath'] = img_dir + pet_df['img_name']+'.jpg'\n",
        "  pet_df['anno_filepath'] = anno_dir + pet_df['img_name']+'.xml'\n",
        "  pet_df = remove_no_annos(pet_df)\n",
        "\n",
        "\n",
        "  train_df, val_df = train_test_split(pet_df, test_size=test_size, stratify=pet_df['class_id'], random_state=2021)\n",
        "  return pet_df, train_df, val_df\n",
        "\n",
        "def remove_no_annos(df):\n",
        "  remove_rows = []\n",
        "  for index, row in df.iterrows():\n",
        "    anno_filepath = row['anno_filepath']\n",
        "    if not os.path.exists(anno_filepath):\n",
        "      print('##### index:', index, anno_filepath, 'is not exist. Delete from dataframe')\n",
        "      remove_rows.append(index)\n",
        "  df = df.drop(remove_rows, axis=0, inplace=False)\n",
        "  return df\n",
        "\n",
        "\n",
        "pet_df, train_df, val_df = make_train_valid_df('/content/data/annotations/trainval.txt',\n",
        "                                               '/content/data/images/', '/content/data/annotations/xmls/', test_size=0.1)"
      ],
      "metadata": {
        "id": "a3hiM0vRvEna"
      },
      "execution_count": null,
      "outputs": []
    },
    {
      "cell_type": "code",
      "source": [
        "#check\n",
        "pet_df.head()"
      ],
      "metadata": {
        "id": "1uN5-6MKzMRu"
      },
      "execution_count": null,
      "outputs": []
    },
    {
      "cell_type": "code",
      "source": [
        "#set class name\n",
        "CLASS_NAMES = pet_df['class_name'].unique().tolist()\n",
        "print(CLASS_NAMES)"
      ],
      "metadata": {
        "id": "IbgmgBybzceS"
      },
      "execution_count": null,
      "outputs": []
    },
    {
      "cell_type": "code",
      "source": [
        "#convert annotation of Oxford pet data to format of Ultralytics yolo\n",
        "import glob\n",
        "import xml.etree.ElementTree as ET\n",
        "\n",
        "\n",
        "def xml_to_txt(input_xml_file, output_txt_file, object_name):\n",
        "  tree = ET.parse(input_xml_file)\n",
        "  root = tree.getroot()\n",
        "  img_node = root.find('size')\n",
        "\n",
        "  if img_node is None:\n",
        "    return None\n",
        "  img_width = int(img_node.find('width').text)\n",
        "  img_height = int(img_node.find('height').text)\n",
        "\n",
        "  value_str = None\n",
        "  with open(output_txt_file, 'w') as output_fpointer:\n",
        "    for obj in root.findall('object'):\n",
        "        xmlbox = obj.find('bndbox')\n",
        "        x1 = int(xmlbox.find('xmin').text)\n",
        "        y1 = int(xmlbox.find('ymin').text)\n",
        "        x2 = int(xmlbox.find('xmax').text)\n",
        "        y2 = int(xmlbox.find('ymax').text)\n",
        "        if (x1 < 0) or (x2 < 0) or (y1 < 0) or (y2 < 0):\n",
        "          break\n",
        "        class_id, cx_norm, cy_norm, w_norm, h_norm = convert_yolo_coord(object_name, img_width, img_height, x1, y1, x2, y2)\n",
        "        value_str = ('{0} {1} {2} {3} {4}').format(class_id, cx_norm, cy_norm, w_norm, h_norm)\n",
        "        output_fpointer.write(value_str+'\\n')\n",
        "\n",
        "\n",
        "def convert_yolo_coord(object_name, img_width, img_height, x1, y1, x2, y2):\n",
        "  class_id = CLASS_NAMES.index(object_name)\n",
        "  center_x = (x1 + x2)/2\n",
        "  center_y = (y1 + y2)/2\n",
        "  width = x2 - x1\n",
        "  height = y2 - y1\n",
        "  center_x_norm = center_x / img_width\n",
        "  center_y_norm = center_y / img_height\n",
        "  width_norm = width / img_width\n",
        "  height_norm = height / img_height\n",
        "\n",
        "  return class_id, round(center_x_norm, 7), round(center_y_norm, 7), round(width_norm, 7), round(height_norm, 7)#############round는 소수점 7자리까지만 계산하라는 것.\n"
      ],
      "metadata": {
        "id": "eyzrKzK5294k"
      },
      "execution_count": 9,
      "outputs": []
    },
    {
      "cell_type": "code",
      "source": [
        " class_id = CLASS_NAMES.index('yorkshire_terrier')\n",
        " print(class_id)"
      ],
      "metadata": {
        "id": "YgceNzJd5yp0"
      },
      "execution_count": null,
      "outputs": []
    },
    {
      "cell_type": "code",
      "source": [
        "xml_to_txt('/content/data/annotations/xmls/Abyssinian_1.xml', '/content/ox_pet/labels/train/Abyssinian_1.txt', 'Abyssinian')"
      ],
      "metadata": {
        "id": "zv2HzSUL5y_L"
      },
      "execution_count": 11,
      "outputs": []
    },
    {
      "cell_type": "code",
      "source": [
        "train_df.head()"
      ],
      "metadata": {
        "id": "qnsLEv4E7-Xr"
      },
      "execution_count": null,
      "outputs": []
    },
    {
      "cell_type": "code",
      "source": [
        "#create yolo annotation file\n",
        "import shutil\n",
        "\n",
        "def make_yolo_anno_file(df, tgt_images_dir, tgt_labels_dir):\n",
        "  for index, row in df.iterrows():\n",
        "    src_image_path = row['img_filepath']\n",
        "    src_label_path = row['anno_filepath']\n",
        "    object_name = row['class_name']\n",
        "    target_label_path = tgt_labels_dir + row['img_name']+'.txt'\n",
        "    shutil.copy(src_image_path, tgt_images_dir)\n",
        "    xml_to_txt(src_label_path, target_label_path, object_name)\n",
        "\n",
        "\n",
        "make_yolo_anno_file(train_df, '/content/ox_pet/images/train/', '/content/ox_pet/labels/train/')\n",
        "make_yolo_anno_file(val_df, '/content/ox_pet/images/val/', '/content/ox_pet/labels/val/')"
      ],
      "metadata": {
        "id": "lg76hQem6fqq"
      },
      "execution_count": 13,
      "outputs": []
    },
    {
      "cell_type": "code",
      "source": [
        "#get yaml data made by Editplus\n",
        "!wget -O /content/ox_pet/ox_pet.yaml https://raw.githubusercontent.com/pochune/research-codes/main/Codes_for_Image_detection/ox_pet.yaml"
      ],
      "metadata": {
        "id": "iqwCl6aYtMa1"
      },
      "execution_count": null,
      "outputs": []
    },
    {
      "cell_type": "code",
      "source": [
        "import os, sys\n",
        "from google.colab import drive\n",
        "\n",
        "drive.mount('/content/gdrive')"
      ],
      "metadata": {
        "id": "-st30t1K9GI-"
      },
      "execution_count": null,
      "outputs": []
    },
    {
      "cell_type": "code",
      "source": [
        "!ln -s /content/gdrive/My\\ Drive/ /mydrive"
      ],
      "metadata": {
        "id": "Gu44FmQV-nUT"
      },
      "execution_count": null,
      "outputs": []
    },
    {
      "cell_type": "code",
      "source": [
        "#training\n",
        "!cd /content/yolov3; python train.py --img 640 --batch 16 --epochs 20 --data /content/ox_pet/ox_pet.yaml --weights yolov3.pt --project=/mydrive/ultra_workdir --name pet --exist-ok"
      ],
      "metadata": {
        "id": "GuB-A7Bm-xpL"
      },
      "execution_count": null,
      "outputs": []
    },
    {
      "cell_type": "code",
      "source": [
        "#test\n",
        "!cd yolov3;python detect.py --source /content/data/images/american_bulldog_101.jpg --weights /mydrive/ultra_workdir/pet/weights/best.pt --conf 0.2 --project=/content/data/output --name=run_image --exist-ok --line-thickness 2"
      ],
      "metadata": {
        "id": "PaDLrgPFPqN2"
      },
      "execution_count": null,
      "outputs": []
    },
    {
      "cell_type": "code",
      "source": [
        "#vedio file download\n",
        "!wget -O /content/data/ox_dog.mp4  https://github.com/pochune/research-codes/blob/main/Codes_for_Image_detection/ox_dog.mp4?raw=true"
      ],
      "metadata": {
        "id": "kFWrmGtTwL-x"
      },
      "execution_count": null,
      "outputs": []
    },
    {
      "cell_type": "code",
      "source": [
        "#test video file\n",
        "!cd yolov3; python detect.py --source /content/data/ox_dog.mp4 --weights /mydrive/ultra_workdir/pet/weights/best.pt --project /content/data/output --name run_video --exist-ok --line-thickness 3 --conf 0.4 --iou=0.6"
      ],
      "metadata": {
        "id": "IwKK-i5uRe7e"
      },
      "execution_count": null,
      "outputs": []
    },
    {
      "cell_type": "code",
      "source": [
        "#create confusion matrix\n",
        "!cd yolov3; python val.py --weights /mydrive/ultra_workdir/pet/weights/best.pt  --data /content/ox_pet/ox_pet.yaml --project /content/data/output --name=test_result --exist-ok --img 640 --iou 0.65"
      ],
      "metadata": {
        "id": "Sqe3ry1ETv0S"
      },
      "execution_count": null,
      "outputs": []
    },
    {
      "cell_type": "code",
      "source": [
        "Image(filename='/content/data/output/test_result/confusion_matrix.png', width=800)"
      ],
      "metadata": {
        "id": "LDdPz5y4TwvM"
      },
      "execution_count": null,
      "outputs": []
    }
  ]
}